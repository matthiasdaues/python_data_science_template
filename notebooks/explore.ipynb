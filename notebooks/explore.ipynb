{
 "cells": [
  {
   "cell_type": "code",
   "execution_count": null,
   "id": "0fd8b649",
   "metadata": {},
   "outputs": [],
   "source": [
    "from src.python import utils as utils\n",
    "from src.python import functions as functions   \n",
    "\n",
    "queries = utils.get_queries()\n",
    "conn = utils.connect_to_db()\n",
    "date_series = utils.create_date_series(datetime(2025, 1, 1), datetime(2025, 1, 10))"
   ]
  },
  {
   "cell_type": "code",
   "execution_count": null,
   "id": "132d5780",
   "metadata": {},
   "outputs": [],
   "source": [
    "print(conn.dsn)\n",
    "print(queries)\n",
    "print(date_series)"
   ]
  }
 ],
 "metadata": {
  "language_info": {
   "name": "python"
  }
 },
 "nbformat": 4,
 "nbformat_minor": 5
}
